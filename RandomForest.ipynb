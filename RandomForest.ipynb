{
 "cells": [
  {
   "cell_type": "code",
   "execution_count": 3,
   "id": "09cd3736-68e8-49ca-b0ce-099ca591314e",
   "metadata": {},
   "outputs": [],
   "source": [
    "from sklearn.datasets import load_iris, fetch_openml\n",
    "\n",
    "iris = load_iris()\n",
    "X = iris.data\n",
    "Y = iris.target\n",
    "X_mnist, Y_mnist = fetch_openml('mnist_784', version=1, return_X_y=True, as_frame=False)\n",
    "Y_mnist = Y_mnist.astype(int)"
   ]
  },
  {
   "cell_type": "code",
   "execution_count": 7,
   "id": "aada2659-f6cf-4076-8f80-ae761984aed1",
   "metadata": {},
   "outputs": [],
   "source": [
    "from sklearn.preprocessing import StandardScaler\n",
    "\n",
    "scaler = StandardScaler()\n",
    "X_scaled = scaler.fit_transform(X)\n",
    "X_mnist_scaled = scaler.fit_transform(X_mnist)"
   ]
  },
  {
   "cell_type": "code",
   "execution_count": 9,
   "id": "a674befb-dd5b-4b9c-8921-1e0ecb20a140",
   "metadata": {},
   "outputs": [],
   "source": [
    "from sklearn.model_selection import train_test_split, GridSearchCV\n",
    "\n",
    "X_train, X_test, Y_train, Y_test = train_test_split(X_scaled, Y, test_size=0.2, random_state=42)\n",
    "X_mnist_train, X_mnist_test, Y_mnist_train, Y_mnist_test = train_test_split(X_mnist_scaled, Y_mnist, test_size=0.2, random_state=42)"
   ]
  },
  {
   "cell_type": "code",
   "execution_count": 12,
   "id": "16cb2904-9650-4546-ac76-4fc1bb544b02",
   "metadata": {},
   "outputs": [],
   "source": [
    "from sklearn.ensemble import RandomForestClassifier\n",
    "\n",
    "random_forest_iris = RandomForestClassifier(n_estimators= 100, max_depth=5, random_state= 42)\n",
    "random_forest_iris.fit(X_train, Y_train)\n",
    "Y_iris = random_forest_iris.predict(X_test)"
   ]
  },
  {
   "cell_type": "code",
   "execution_count": 16,
   "id": "001deae1-fd36-489d-919d-ed45100c9fb6",
   "metadata": {},
   "outputs": [
    {
     "name": "stdout",
     "output_type": "stream",
     "text": [
      "Accuracy for the Random Forest on the Iris dataset is:  1.00\n",
      "Confusion Matrix of the Random Forest model on the Iris dataset is:  [[10  0  0]\n",
      " [ 0  9  0]\n",
      " [ 0  0 11]]\n",
      "Classification report of the Random Forest model on the Iris dataset is:                precision    recall  f1-score   support\n",
      "\n",
      "           0       1.00      1.00      1.00        10\n",
      "           1       1.00      1.00      1.00         9\n",
      "           2       1.00      1.00      1.00        11\n",
      "\n",
      "    accuracy                           1.00        30\n",
      "   macro avg       1.00      1.00      1.00        30\n",
      "weighted avg       1.00      1.00      1.00        30\n",
      "\n"
     ]
    }
   ],
   "source": [
    "from sklearn.metrics import accuracy_score, confusion_matrix, classification_report\n",
    "\n",
    "acc_iris = accuracy_score(Y_iris, Y_test)\n",
    "conf_iris = confusion_matrix(Y_iris, Y_test)\n",
    "\n",
    "print(f\"Accuracy for the Random Forest on the Iris dataset is: {acc_iris: .2f}\")\n",
    "print(\"Confusion Matrix of the Random Forest model on the Iris dataset is: \", conf_iris)\n",
    "print(\"Classification report of the Random Forest model on the Iris dataset is: \", classification_report(Y_iris, Y_test))"
   ]
  },
  {
   "cell_type": "code",
   "execution_count": 20,
   "id": "6a64157f-1986-4229-b50f-2830b2cc7071",
   "metadata": {},
   "outputs": [
    {
     "name": "stdout",
     "output_type": "stream",
     "text": [
      "The best params for the Rondom Forest model is:  {'max_depth': 15, 'min_samples_split': 2, 'n_estimators': 200}\n"
     ]
    }
   ],
   "source": [
    "param_grid = {\n",
    "    'n_estimators': [50, 100, 200],\n",
    "    'max_depth': [5, 10, 15],\n",
    "    'min_samples_split': [2, 5]\n",
    "}\n",
    "\n",
    "rf = RandomForestClassifier(random_state=42)\n",
    "rf_mnist = GridSearchCV(rf, param_grid, cv=3, scoring='accuracy', n_jobs= -1)\n",
    "rf_mnist.fit(X_mnist_train, Y_mnist_train)\n",
    "best_rf_mnist = rf_mnist.best_estimator_\n",
    "\n",
    "print(\"The best params for the Rondom Forest model is: \", rf_mnist.best_params_)"
   ]
  },
  {
   "cell_type": "code",
   "execution_count": 22,
   "id": "fd04dbe4-dafc-41fb-bd8e-0a7ad5a524db",
   "metadata": {},
   "outputs": [
    {
     "name": "stdout",
     "output_type": "stream",
     "text": [
      "Accuracy for the optimal Random Forest on the Iris dataset is:  0.96\n",
      "Confusion Matrix of the optimal Random Forest model on the Iris dataset is:  [[1319    0    3    1    3    3    5    2    0    6]\n",
      " [   0 1576    3    0    0    4    2    8   10    7]\n",
      " [   5    7 1337   24    3    3    0   19   11    2]\n",
      " [   0    7    2 1355    0   17    0    0   13   19]\n",
      " [   2    2    5    1 1244    3    5    6    6   18]\n",
      " [   2    0    1   10    0 1219    7    0    7    3]\n",
      " [   5    0    9    1    4    8 1373    0    7    1]\n",
      " [   1    6    9   16    4    3    0 1444    5   15]\n",
      " [   8    2    9   15    2   11    4    2 1287    7]\n",
      " [   1    0    2   10   35    2    0   22   11 1342]]\n",
      "Classification report of the optimal Random Forest model on the Iris dataset is:                precision    recall  f1-score   support\n",
      "\n",
      "           0       0.98      0.98      0.98      1342\n",
      "           1       0.98      0.98      0.98      1610\n",
      "           2       0.97      0.95      0.96      1411\n",
      "           3       0.95      0.96      0.95      1413\n",
      "           4       0.96      0.96      0.96      1292\n",
      "           5       0.96      0.98      0.97      1249\n",
      "           6       0.98      0.98      0.98      1408\n",
      "           7       0.96      0.96      0.96      1503\n",
      "           8       0.95      0.96      0.95      1347\n",
      "           9       0.95      0.94      0.94      1425\n",
      "\n",
      "    accuracy                           0.96     14000\n",
      "   macro avg       0.96      0.96      0.96     14000\n",
      "weighted avg       0.96      0.96      0.96     14000\n",
      "\n"
     ]
    }
   ],
   "source": [
    "Y_mnist_pred = best_rf_mnist.predict(X_mnist_test)\n",
    "\n",
    "acc_grid = accuracy_score(Y_mnist_pred, Y_mnist_test)\n",
    "conf_grid = confusion_matrix(Y_mnist_pred, Y_mnist_test)\n",
    "\n",
    "print(f\"Accuracy for the optimal Random Forest on the Iris dataset is: {acc_grid: .2f}\")\n",
    "print(\"Confusion Matrix of the optimal Random Forest model on the Iris dataset is: \", conf_grid)\n",
    "print(\"Classification report of the optimal Random Forest model on the Iris dataset is: \", classification_report(Y_mnist_pred, Y_mnist_test))"
   ]
  },
  {
   "cell_type": "code",
   "execution_count": null,
   "id": "b03da080-750e-4f73-ac40-b514cda85353",
   "metadata": {},
   "outputs": [],
   "source": []
  }
 ],
 "metadata": {
  "kernelspec": {
   "display_name": "Python 3 (ipykernel)",
   "language": "python",
   "name": "python3"
  },
  "language_info": {
   "codemirror_mode": {
    "name": "ipython",
    "version": 3
   },
   "file_extension": ".py",
   "mimetype": "text/x-python",
   "name": "python",
   "nbconvert_exporter": "python",
   "pygments_lexer": "ipython3",
   "version": "3.10.4"
  }
 },
 "nbformat": 4,
 "nbformat_minor": 5
}
